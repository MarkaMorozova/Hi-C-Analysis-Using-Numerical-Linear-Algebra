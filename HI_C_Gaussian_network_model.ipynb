{
  "cells": [
    {
      "cell_type": "code",
      "source": [
        "!pip install -U --no-cache-dir gdown --pre\n",
        "!gdown https://drive.google.com/uc?id=1qhJQG_VjE1A2lkCgwNX6ZYEjJlsKPfgC"
      ],
      "metadata": {
        "colab": {
          "base_uri": "https://localhost:8080/",
          "height": 540
        },
        "id": "YDatc9ZX_dyF",
        "outputId": "05b3e413-98f6-400f-d5fc-8e7b47bf9abd"
      },
      "id": "YDatc9ZX_dyF",
      "execution_count": 10,
      "outputs": [
        {
          "output_type": "stream",
          "name": "stdout",
          "text": [
            "Looking in indexes: https://pypi.org/simple, https://us-python.pkg.dev/colab-wheels/public/simple/\n",
            "Requirement already satisfied: gdown in /usr/local/lib/python3.8/dist-packages (4.4.0)\n",
            "Collecting gdown\n",
            "  Downloading gdown-4.6.0-py3-none-any.whl (14 kB)\n",
            "Requirement already satisfied: six in /usr/local/lib/python3.8/dist-packages (from gdown) (1.15.0)\n",
            "Requirement already satisfied: tqdm in /usr/local/lib/python3.8/dist-packages (from gdown) (4.64.1)\n",
            "Requirement already satisfied: filelock in /usr/local/lib/python3.8/dist-packages (from gdown) (3.8.2)\n",
            "Requirement already satisfied: requests[socks] in /usr/local/lib/python3.8/dist-packages (from gdown) (2.23.0)\n",
            "Requirement already satisfied: beautifulsoup4 in /usr/local/lib/python3.8/dist-packages (from gdown) (4.6.3)\n",
            "Requirement already satisfied: certifi>=2017.4.17 in /usr/local/lib/python3.8/dist-packages (from requests[socks]->gdown) (2022.12.7)\n",
            "Requirement already satisfied: urllib3!=1.25.0,!=1.25.1,<1.26,>=1.21.1 in /usr/local/lib/python3.8/dist-packages (from requests[socks]->gdown) (1.24.3)\n",
            "Requirement already satisfied: idna<3,>=2.5 in /usr/local/lib/python3.8/dist-packages (from requests[socks]->gdown) (2.10)\n",
            "Requirement already satisfied: chardet<4,>=3.0.2 in /usr/local/lib/python3.8/dist-packages (from requests[socks]->gdown) (3.0.4)\n",
            "Requirement already satisfied: PySocks!=1.5.7,>=1.5.6 in /usr/local/lib/python3.8/dist-packages (from requests[socks]->gdown) (1.7.1)\n",
            "Installing collected packages: gdown\n",
            "  Attempting uninstall: gdown\n",
            "    Found existing installation: gdown 4.4.0\n",
            "    Uninstalling gdown-4.4.0:\n",
            "      Successfully uninstalled gdown-4.4.0\n",
            "Successfully installed gdown-4.6.0\n"
          ]
        },
        {
          "output_type": "display_data",
          "data": {
            "application/vnd.colab-display-data+json": {
              "pip_warning": {
                "packages": [
                  "gdown"
                ]
              }
            }
          },
          "metadata": {}
        },
        {
          "output_type": "stream",
          "name": "stdout",
          "text": [
            "Downloading...\n",
            "From: https://drive.google.com/uc?id=1qhJQG_VjE1A2lkCgwNX6ZYEjJlsKPfgC\n",
            "To: /content/GSM5057469_Human_matrix.mcool\n",
            "100% 1.36G/1.36G [00:13<00:00, 99.4MB/s]\n"
          ]
        }
      ]
    },
    {
      "cell_type": "code",
      "execution_count": 11,
      "id": "5b90b43d",
      "metadata": {
        "colab": {
          "base_uri": "https://localhost:8080/"
        },
        "id": "5b90b43d",
        "outputId": "3b015924-2c5d-42db-b6e8-f65d76b8d58b"
      },
      "outputs": [
        {
          "output_type": "stream",
          "name": "stdout",
          "text": [
            "Looking in indexes: https://pypi.org/simple, https://us-python.pkg.dev/colab-wheels/public/simple/\n",
            "Requirement already satisfied: cooler in /usr/local/lib/python3.8/dist-packages (0.8.11)\n",
            "Requirement already satisfied: simplejson in /usr/local/lib/python3.8/dist-packages (from cooler) (3.18.0)\n",
            "Requirement already satisfied: pyfaidx in /usr/local/lib/python3.8/dist-packages (from cooler) (0.7.1)\n",
            "Requirement already satisfied: pandas in /usr/local/lib/python3.8/dist-packages (from cooler) (1.3.5)\n",
            "Requirement already satisfied: scipy>=0.16 in /usr/local/lib/python3.8/dist-packages (from cooler) (1.7.3)\n",
            "Requirement already satisfied: cytoolz<0.11 in /usr/local/lib/python3.8/dist-packages (from cooler) (0.10.1)\n",
            "Requirement already satisfied: six in /usr/local/lib/python3.8/dist-packages (from cooler) (1.15.0)\n",
            "Requirement already satisfied: pyyaml in /usr/local/lib/python3.8/dist-packages (from cooler) (6.0)\n",
            "Requirement already satisfied: h5py>=2.5 in /usr/local/lib/python3.8/dist-packages (from cooler) (3.1.0)\n",
            "Requirement already satisfied: asciitree in /usr/local/lib/python3.8/dist-packages (from cooler) (0.3.3)\n",
            "Requirement already satisfied: click>=7 in /usr/local/lib/python3.8/dist-packages (from cooler) (7.1.2)\n",
            "Requirement already satisfied: numpy>=1.9 in /usr/local/lib/python3.8/dist-packages (from cooler) (1.21.6)\n",
            "Requirement already satisfied: pypairix in /usr/local/lib/python3.8/dist-packages (from cooler) (0.3.7)\n",
            "Requirement already satisfied: multiprocess in /usr/local/lib/python3.8/dist-packages (from cooler) (0.70.14)\n",
            "Requirement already satisfied: toolz>=0.8.0 in /usr/local/lib/python3.8/dist-packages (from cytoolz<0.11->cooler) (0.12.0)\n",
            "Requirement already satisfied: dill>=0.3.6 in /usr/local/lib/python3.8/dist-packages (from multiprocess->cooler) (0.3.6)\n",
            "Requirement already satisfied: python-dateutil>=2.7.3 in /usr/local/lib/python3.8/dist-packages (from pandas->cooler) (2.8.2)\n",
            "Requirement already satisfied: pytz>=2017.3 in /usr/local/lib/python3.8/dist-packages (from pandas->cooler) (2022.6)\n",
            "Requirement already satisfied: setuptools>=0.7 in /usr/local/lib/python3.8/dist-packages (from pyfaidx->cooler) (57.4.0)\n"
          ]
        }
      ],
      "source": [
        "import matplotlib.pyplot as plt\n",
        "!pip install cooler\n",
        "import cooler\n",
        "import numpy as np\n",
        "import scipy as scp\n",
        "import enum\n",
        "\n",
        "class HiCnormType(enum.Enum):\n",
        "    raw = 1 # raw Hi-C matrix with int data values\n",
        "    IC = 2  # Iterative Correction.\n",
        "    VC = 3  # Vanilla-Coverage. This is a simple method where at first each element is divided by sum of respective row and subsequently divided by sum of respective column.\n",
        "\n",
        "def get_HiC_matrix(path, \n",
        "                   resolution=2000,\n",
        "                   sparse=False,\n",
        "                   norm_type=HiCnormType.IC,\n",
        "                   set_zero_diag=True,\n",
        "                   chromname = None, #'chrI'\n",
        "                   tol=1e-10):\n",
        "    \n",
        "    if resolution != 0:\n",
        "        path = path + \"::/resolutions/{}\".format(resolution)\n",
        "        \n",
        "    cool = cooler.Cooler(path) # ['/resolutions/200', '/resolutions/400', '/resolutions/800', '/resolutions/1600', '/resolutions/2000']\n",
        "    \n",
        "    matrix = None\n",
        "    if norm_type == HiCnormType.raw:\n",
        "        if chromname == None:\n",
        "            matrix = cool.matrix(sparse=sparse, balance=False)[:, :]\n",
        "        else:\n",
        "            matrix = cool.matrix(sparse=sparse, balance=False).fetch(chromname)\n",
        "    elif norm_type == HiCnormType.IC:\n",
        "        if chromname == None:\n",
        "            matrix = cool.matrix(sparse=sparse, balance=True)[:, :]\n",
        "        else:\n",
        "            matrix = cool.matrix(sparse=sparse, balance=True).fetch(chromname)\n",
        "    elif norm_type == HiCnormType.VC:\n",
        "        if chromname == None:\n",
        "            matrix = cool.matrix(sparse=sparse, balance=False)[:, :]\n",
        "        else:\n",
        "            matrix = cool.matrix(sparse=sparse, balance=False).fetch(chromname)\n",
        "        \n",
        "        dim = matrix.shape[0]\n",
        "        \n",
        "        sum_along_row = np.asarray(matrix.sum(axis=1)).reshape(-1).astype(np.float64)\n",
        "        for i in range(dim):\n",
        "            if sum_along_row[i] > tol:\n",
        "                sum_along_row[i] = 1 / sum_along_row[i]\n",
        "            else:\n",
        "                sum_along_row[i] = 0\n",
        "        spdiag_inv_sum_along_row = scp.sparse.diags(sum_along_row)\n",
        "        #matrix = spdiag_inv_sum_along_row @ matrix     # we divide each row by the sum of all its elements\n",
        "        \n",
        "        sum_along_column = np.asarray(matrix.sum(axis=0)).reshape(-1).astype(np.float64)\n",
        "        for i in range(dim):\n",
        "            if sum_along_column[i] > tol:\n",
        "                sum_along_column[i] = 1 / sum_along_column[i]\n",
        "            else:\n",
        "                sum_along_column[i] = 0\n",
        "        spdiag_inv_sum_along_column = scp.sparse.diags(sum_along_column)\n",
        "        #matrix = matrix @ spdiag_inv_sum_along_column  # we divide each column by the sum of all its elements\n",
        "    \n",
        "        matrix = spdiag_inv_sum_along_row @ matrix @ spdiag_inv_sum_along_column\n",
        "    \n",
        "    if set_zero_diag == True:\n",
        "        if sparse == False:\n",
        "            np.fill_diagonal(matrix, 0)  # matrix is a dense numpy.ndarray\n",
        "        else:\n",
        "            matrix.setdiag(0)            # matrix is a sparse scipy.sparse._coo.coo_matrix. Can be further converted to CSR/CSC format for fast arithmetic and matrix vector operations (.tocsr()).\n",
        "    \n",
        "    if scp.sparse.issparse(matrix)==False:\n",
        "        matrix = np.nan_to_num(matrix)\n",
        "    \n",
        "    return matrix\n",
        "    \n",
        "    \n",
        "def construct_Kirchhoff_mat(matrix, gamma=1):\n",
        "    # zero all diagonal elements (in case if they are != 0)\n",
        "    if scp.sparse.issparse(matrix) == False:\n",
        "        np.fill_diagonal(matrix, 0)\n",
        "    else:\n",
        "        matrix.setdiag(0)\n",
        "    \n",
        "    sum_along_row = np.asarray(matrix.sum(axis=1)).reshape(-1).astype(np.float64) * gamma\n",
        "    matrix *= -gamma\n",
        "    if scp.sparse.issparse(matrix) == False:\n",
        "        np.fill_diagonal(matrix, sum_along_row)\n",
        "    else:\n",
        "        matrix.setdiag(sum_along_row)\n",
        "    \n",
        "    return matrix"
      ]
    },
    {
      "cell_type": "code",
      "execution_count": 12,
      "id": "46a332ba",
      "metadata": {
        "id": "46a332ba"
      },
      "outputs": [],
      "source": [
        "import numpy as np\n",
        "import scipy as scp\n",
        "\n",
        "def compute_eigen_decomp(matrix, k=6, which='SM'):\n",
        "    eigvals = None\n",
        "    eigvecs = None\n",
        "    if scp.sparse.issparse(matrix):\n",
        "        eigvals, eigvecs = scp.sparse.linalg.eigsh(matrix, k=k, which=which)\n",
        "    else:\n",
        "        eigvals, eigvecs = np.linalg.eigh(matrix)\n",
        "    return eigvals, eigvecs\n",
        "\n",
        "def compute_cross_correlation_matrix(eigvals, eigvecs, tol=1e-10):\n",
        "    dim = len(eigvals)\n",
        "    cross_cor_mat = np.zeros(dim, dim)\n",
        "    for i in range(dim):\n",
        "        if eigvals[i] > tol:\n",
        "            cross_cor_mat += np.outer(eigvecs[i], eigvecs[i]) / eigvals[i]\n",
        "\n",
        "def compute_cross_correlation_diagonal(eigvals, eigvecs, normalize=True, tol=1e-10):\n",
        "    dim = len(eigvals)\n",
        "    cross_cor_mat_diagonal = np.zeros(dim)\n",
        "    for i in range(dim):\n",
        "        if eigvals[i] > tol:\n",
        "            cross_cor_mat_diagonal += eigvecs[i]**2 / eigvals[i]\n",
        "            \n",
        "    if normalize == True:\n",
        "        cross_cor_mat_diagonal /= np.linalg.norm(cross_cor_mat_diagonal, 2) #.max()\n",
        "    return cross_cor_mat_diagonal"
      ]
    },
    {
      "cell_type": "code",
      "execution_count": 13,
      "id": "562ed764",
      "metadata": {
        "id": "562ed764"
      },
      "outputs": [],
      "source": [
        "import numpy as np\n",
        "\n",
        "def save_array(array, filename='data'):\n",
        "    filename += '.npy'\n",
        "    np.save(filename, array) \n",
        "    \n",
        "def read_array(filename):\n",
        "    array = np.load(filename)\n",
        "    return array"
      ]
    },
    {
      "cell_type": "code",
      "execution_count": 14,
      "id": "b5648927",
      "metadata": {
        "scrolled": true,
        "colab": {
          "base_uri": "https://localhost:8080/"
        },
        "id": "b5648927",
        "outputId": "b59b3ab1-bf88-466b-86c9-4db207deaaf8"
      },
      "outputs": [
        {
          "output_type": "stream",
          "name": "stdout",
          "text": [
            "HiC_mat.shape = (4844, 4844)\n"
          ]
        }
      ],
      "source": [
        "HiC_mat = get_HiC_matrix('GSM5057469_Human_matrix.mcool',\n",
        "                   resolution=50000, sparse=False, chromname = 'chr2', norm_type=HiCnormType.IC)\n",
        "\n",
        "print(\"HiC_mat.shape =\", HiC_mat.shape)"
      ]
    },
    {
      "cell_type": "code",
      "execution_count": 15,
      "id": "01404553",
      "metadata": {
        "id": "01404553"
      },
      "outputs": [],
      "source": [
        "eigdecomp_HiC_mat = compute_eigen_decomp(HiC_mat)\n",
        "eigvals_HiC_mat, eigvecs_HiC_mat = eigdecomp_HiC_mat"
      ]
    },
    {
      "cell_type": "code",
      "execution_count": 16,
      "id": "eaa8aba7",
      "metadata": {
        "colab": {
          "base_uri": "https://localhost:8080/"
        },
        "id": "eaa8aba7",
        "outputId": "264bbe02-c9ad-421b-d7ce-19ce801657d3"
      },
      "outputs": [
        {
          "output_type": "execute_result",
          "data": {
            "text/plain": [
              "4843"
            ]
          },
          "metadata": {},
          "execution_count": 16
        }
      ],
      "source": [
        "np.argmax(eigvals_HiC_mat)"
      ]
    },
    {
      "cell_type": "code",
      "execution_count": 17,
      "id": "71259a75",
      "metadata": {
        "id": "71259a75"
      },
      "outputs": [],
      "source": [
        "K_mat = construct_Kirchhoff_mat(HiC_mat, gamma=1)\n",
        "\n",
        "#K_mat.todense()[:5, :5]\n",
        "#K_mat[:5, :5]\n",
        "#plt.spy(K_mat, markersize=0.1)\n",
        "#plt.show()"
      ]
    },
    {
      "cell_type": "code",
      "execution_count": 18,
      "id": "f34fcb4a",
      "metadata": {
        "id": "f34fcb4a"
      },
      "outputs": [],
      "source": [
        "eigdecomp = compute_eigen_decomp(K_mat)\n",
        "eigvals, eigvecs = eigdecomp[0], eigdecomp[1]"
      ]
    },
    {
      "cell_type": "code",
      "execution_count": 19,
      "id": "b8ed0d27",
      "metadata": {
        "id": "b8ed0d27"
      },
      "outputs": [],
      "source": [
        "cross_cor_mat_diagonal = compute_cross_correlation_diagonal(eigvals, eigvecs, normalize=True)"
      ]
    },
    {
      "cell_type": "code",
      "execution_count": 20,
      "id": "eec7c0e1",
      "metadata": {
        "colab": {
          "base_uri": "https://localhost:8080/"
        },
        "id": "eec7c0e1",
        "outputId": "4cd44b2b-1445-4df7-9459-047c30df05ed"
      },
      "outputs": [
        {
          "output_type": "execute_result",
          "data": {
            "text/plain": [
              "array([-1.01472221e-15, -9.75813743e-16, -9.16105630e-16, ...,\n",
              "        8.92216477e-01,  8.94543223e-01,  9.00294412e-01])"
            ]
          },
          "metadata": {},
          "execution_count": 20
        }
      ],
      "source": [
        "eigvals"
      ]
    },
    {
      "cell_type": "code",
      "execution_count": 21,
      "id": "dcd05617",
      "metadata": {
        "colab": {
          "base_uri": "https://localhost:8080/"
        },
        "id": "dcd05617",
        "outputId": "ab08186f-2fd4-49fa-cbe9-31894523c923"
      },
      "outputs": [
        {
          "output_type": "stream",
          "name": "stdout",
          "text": [
            "Hence there are 262 disjoint components in the graph!\n"
          ]
        }
      ],
      "source": [
        "# https://shainarace.github.io/LinearAlgebra/chap1-5.html#spectral\n",
        "print(\"Hence there are {} disjoint components in the graph!\".format((eigvals < 1e-10).sum()))"
      ]
    },
    {
      "cell_type": "markdown",
      "id": "0db5131c",
      "metadata": {
        "id": "0db5131c"
      },
      "source": [
        "plt.plot(range(0, len(eigvals)),\n",
        "         np.sort(eigvals), marker='o', markersize=3.1, label='eigvals')\n",
        "plt.grid()\n",
        "plt.legend()\n",
        "plt.show()"
      ]
    },
    {
      "cell_type": "markdown",
      "id": "c1009122",
      "metadata": {
        "id": "c1009122"
      },
      "source": [
        "\n",
        "fig, ax = plt.subplots()\n",
        "p = ax.imshow(HiC_mat[:100, :100], cmap='plasma')# cmap='OrRd')\n",
        "fig.colorbar(mappable=p, ax=ax)\n",
        "plt.show()\n"
      ]
    },
    {
      "cell_type": "code",
      "execution_count": 22,
      "id": "1fda1c10",
      "metadata": {
        "scrolled": false,
        "colab": {
          "base_uri": "https://localhost:8080/",
          "height": 295
        },
        "id": "1fda1c10",
        "outputId": "a9e8bb59-aeb5-4062-9212-489153eb4329"
      },
      "outputs": [
        {
          "output_type": "display_data",
          "data": {
            "text/plain": [
              "<Figure size 432x288 with 1 Axes>"
            ],
            "image/png": "[encoded data removed]"
          },
          "metadata": {
            "needs_background": "light"
          }
        }
      ],
      "source": [
        "\n",
        "plt.plot(cross_cor_mat_diagonal, marker='o', markersize=3.1, linewidth=0.1, label='square fluctuations')\n",
        "plt.plot([0, len(cross_cor_mat_diagonal)], [cross_cor_mat_diagonal.mean(), cross_cor_mat_diagonal.mean()],\n",
        "         linewidth=1.1, label='mean = {}'.format(np.round(cross_cor_mat_diagonal.mean(), decimals=3)))\n",
        "\n",
        "plt.title(\"Chromosome 2\")\n",
        "plt.xlabel(\"bin\")\n",
        "plt.ylabel(\"mobility profile\")\n",
        "\n",
        "#max_eigvec_num = np.argmax(eigvals_HiC_mat)\n",
        "#eigvecs_HiC_mat_max = eigvecs_HiC_mat[max_eigvec_num]\n",
        "#plt.plot(eigvecs_HiC_mat_max, marker='o', markersize=3.1, label='eigvecs_HiC_mat_max')\n",
        "\n",
        "#plt.ylim(0, 0.025)\n",
        "\n",
        "#plt.scatter(range(len(cross_cor_mat_diagonal)), cross_cor_mat_diagonal, marker='o', linewidth=0.01, label='cross_cor_mat_diagonal')\n",
        "#plt.scatter(range(len(eigvecs_HiC_mat)), eigvecs_HiC_mat[max_eigvec_num], marker='o', linewidth=0.01, label='eigvec {}'.format(eigvec_num))\n",
        "\n",
        "plt.grid()\n",
        "plt.legend()\n",
        "\n",
        "#plt.savefig(\"plot_2.pdf\", bbox_inches='tight')\n",
        "plt.show()"
      ]
    },
    {
      "cell_type": "code",
      "execution_count": 23,
      "id": "c1777988",
      "metadata": {
        "colab": {
          "base_uri": "https://localhost:8080/"
        },
        "id": "c1777988",
        "outputId": "7eb9afff-0535-489a-d810-a5d7a39739c8"
      },
      "outputs": [
        {
          "output_type": "execute_result",
          "data": {
            "text/plain": [
              "0.014266094445081031"
            ]
          },
          "metadata": {},
          "execution_count": 23
        }
      ],
      "source": [
        "cross_cor_mat_diagonal.mean()"
      ]
    },
    {
      "cell_type": "code",
      "execution_count": 24,
      "id": "8078e60d",
      "metadata": {
        "colab": {
          "base_uri": "https://localhost:8080/"
        },
        "id": "8078e60d",
        "outputId": "543af9a2-71e6-400c-c135-04550e051aa3"
      },
      "outputs": [
        {
          "output_type": "execute_result",
          "data": {
            "text/plain": [
              "array([ 1.,  1.,  1., ..., -1., -1., -1.])"
            ]
          },
          "metadata": {},
          "execution_count": 24
        }
      ],
      "source": [
        "status_arr = np.sign(cross_cor_mat_diagonal - cross_cor_mat_diagonal.mean())\n",
        "status_arr"
      ]
    },
    {
      "cell_type": "code",
      "source": [],
      "metadata": {
        "id": "-vGeRMwDBqfD"
      },
      "id": "-vGeRMwDBqfD",
      "execution_count": 24,
      "outputs": []
    }
  ],
  "metadata": {
    "kernelspec": {
      "display_name": "Python 3 (ipykernel)",
      "language": "python",
      "name": "python3"
    },
    "language_info": {
      "codemirror_mode": {
        "name": "ipython",
        "version": 3
      },
      "file_extension": ".py",
      "mimetype": "text/x-python",
      "name": "python",
      "nbconvert_exporter": "python",
      "pygments_lexer": "ipython3",
      "version": "3.9.6"
    },
    "colab": {
      "provenance": []
    }
  },
  "nbformat": 4,
  "nbformat_minor": 5
}